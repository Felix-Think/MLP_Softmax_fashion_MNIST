{
  "cells": [
    {
      "cell_type": "code",
      "metadata": {
        "jukit_cell_id": "qmealVMuZ7"
      },
      "source": [
        "#Download image\n",
        "from urllib import request\n",
        "filenames = [\"train-images-idx3-ubyte.gz\",\n",
        "             \"train-labels-idx1-ubyte.gz\",\n",
        "             \"t10k-images-idx3-ubyte.gz\",\n",
        "             \"t10k-labels-idx1-ubyte.gz\"]\n",
        "url = \"http://fashion-mnist.s3-website.eu-central-1.amazonaws.com/\"\n",
        "folder = \"datafashion_mnist/\""
      ],
      "outputs": [],
      "execution_count": null
    },
    {
      "cell_type": "code",
      "metadata": {
        "jukit_cell_id": "rpNsLm8WyB"
      },
      "source": [
        "for name in filenames:\n",
        "    print(\"Downloading\", name)\n",
        "    request.urlretrieve(url + name, folder + name)"
      ],
      "outputs": [],
      "execution_count": null
    },
    {
      "cell_type": "code",
      "metadata": {
        "jukit_cell_id": "8eqUuqxR5G"
      },
      "source": [
        "#gzip use frombuffter of numpy\n",
        "import gzip\n",
        "import numpy as np\n",
        "\n",
        "with gzip.open('datafashion_mnist/train-images-idx3-ubyte.gz', 'rb') as f:\n",
        "    X_train = np.frombuffer(f.read(), np.uint8, offset = 16).reshape(-1, 28*28)\n",
        "\n",
        "with gzip.open('datafashion_mnist/t10k-images-idx3-ubyte.gz', 'rb') as f:\n",
        "    X_test = np.frombuffer(f.read(), np.uint8, offset = 16).reshape(-1, 28*28)\n",
        "\n",
        "with gzip.open('datafashion_mnist/train-labels-idx1-ubyte.gz', 'rb') as f:\n",
        "    y_train = np.frombuffer(f.read(), np.uint8, offset = 8)\n",
        "\n",
        "with gzip.open('datafashion_mnist/t10k-labels-idx1-ubyte.gz', 'rb') as f:\n",
        "    y_test = np.frombuffer(f.read(), np.uint8, offset = 8)"
      ],
      "outputs": [],
      "execution_count": null
    },
    {
      "cell_type": "code",
      "metadata": {
        "jukit_cell_id": "fmPgv7429s"
      },
      "source": [
        "print(X_train.shape)\n",
        "print(X_test.shape)\n",
        "print(y_train.shape)\n",
        "print(y_test.shape)"
      ],
      "outputs": [],
      "execution_count": null
    },
    {
      "cell_type": "code",
      "metadata": {
        "jukit_cell_id": "XCvwbAIhfB"
      },
      "source": [
        "import matplotlib.pyplot as plt\n",
        "import random\n",
        "\n",
        "indices = list(np.random.randint(0, X_train.shape[0], size = 144))# Create a list of 144 random indices inthe shape of the training data\n",
        "rows = 12\n",
        "cols = 12\n",
        "fig = plt.figure(figsize=(9, 9))\n",
        "# Create a 12x12 grid of subplots\n",
        "for i in range(1, cols * rows + 1):\n",
        "    img = X_train[indices[i - 1]].reshape(28, 28)\n",
        "    fig.add_subplot(rows, cols, i)\n",
        "    plt.axis('off')\n",
        "    plt.imshow(img, cmap='gray')"
      ],
      "outputs": [],
      "execution_count": null
    },
    {
      "cell_type": "code",
      "metadata": {
        "jukit_cell_id": "CzRAxzwHWL"
      },
      "source": [
        "# image if not have cmap='gray' will be colorful\n",
        "indices = list(np.random.randint(0, X_train.shape[0], size = 144))\n",
        "rows = 12\n",
        "cols = 12\n",
        "fig = plt.figure(figsize=(9, 9))\n",
        "\n",
        "for i in range(1, cols * rows + 1):\n",
        "    img = X_train[indices[i - 1]].reshape(28, 28)\n",
        "    fig.add_subplot(rows, cols, i)\n",
        "    plt.axis('off')\n",
        "    plt.imshow(img)"
      ],
      "outputs": [],
      "execution_count": null
    },
    {
      "cell_type": "code",
      "metadata": {
        "jukit_cell_id": "MBaXDD9Noy"
      },
      "source": [
        "# Current, file is not saved as a image file\n",
        "# We will save it as a iamge file\n",
        "from PIL import Image\n",
        "\n",
        "indices = list(np.random.randint(0, X_train.shape[0], size = 144))\n",
        "for i in range(144):\n",
        "    img = Image.fromarray(X_train[indices[i]].reshape(28, 28))\n",
        "    img.save(\"datafashion_mnist/image_\" + str(i) + \".png\")"
      ],
      "outputs": [],
      "execution_count": null
    }
  ],
  "metadata": {
    "anaconda-cloud": {},
    "kernelspec": {
      "display_name": "python",
      "language": "python",
      "name": "python3"
    }
  },
  "nbformat": 4,
  "nbformat_minor": 4
}